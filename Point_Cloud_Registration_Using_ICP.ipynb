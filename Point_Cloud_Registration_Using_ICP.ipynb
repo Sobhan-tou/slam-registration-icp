{
 "cells": [
  {
   "cell_type": "code",
   "execution_count": 1,
   "metadata": {},
   "outputs": [
    {
     "name": "stdout",
     "output_type": "stream",
     "text": [
      "Requirement already satisfied: open3d in c:\\users\\sobha\\appdata\\local\\programs\\python\\python310\\lib\\site-packages (0.19.0)Note: you may need to restart the kernel to use updated packages.\n",
      "\n",
      "Requirement already satisfied: numpy>=1.18.0 in c:\\users\\sobha\\appdata\\local\\programs\\python\\python310\\lib\\site-packages (from open3d) (1.23.5)\n",
      "Requirement already satisfied: dash>=2.6.0 in c:\\users\\sobha\\appdata\\local\\programs\\python\\python310\\lib\\site-packages (from open3d) (3.1.1)\n",
      "Requirement already satisfied: werkzeug>=3.0.0 in c:\\users\\sobha\\appdata\\local\\programs\\python\\python310\\lib\\site-packages (from open3d) (3.1.3)\n",
      "Requirement already satisfied: flask>=3.0.0 in c:\\users\\sobha\\appdata\\local\\programs\\python\\python310\\lib\\site-packages (from open3d) (3.1.1)\n",
      "Requirement already satisfied: nbformat>=5.7.0 in c:\\users\\sobha\\appdata\\local\\programs\\python\\python310\\lib\\site-packages (from open3d) (5.8.0)\n",
      "Requirement already satisfied: configargparse in c:\\users\\sobha\\appdata\\local\\programs\\python\\python310\\lib\\site-packages (from open3d) (1.7.1)\n",
      "Requirement already satisfied: ipywidgets>=8.0.4 in c:\\users\\sobha\\appdata\\local\\programs\\python\\python310\\lib\\site-packages (from open3d) (8.0.4)\n",
      "Requirement already satisfied: plotly>=5.0.0 in c:\\users\\sobha\\appdata\\local\\programs\\python\\python310\\lib\\site-packages (from dash>=2.6.0->open3d) (6.2.0)\n",
      "Requirement already satisfied: importlib-metadata in c:\\users\\sobha\\appdata\\local\\programs\\python\\python310\\lib\\site-packages (from dash>=2.6.0->open3d) (8.7.0)\n",
      "Requirement already satisfied: typing-extensions>=4.1.1 in c:\\users\\sobha\\appdata\\local\\programs\\python\\python310\\lib\\site-packages (from dash>=2.6.0->open3d) (4.14.1)\n",
      "Requirement already satisfied: requests in c:\\users\\sobha\\appdata\\local\\programs\\python\\python310\\lib\\site-packages (from dash>=2.6.0->open3d) (2.28.2)\n",
      "Requirement already satisfied: retrying in c:\\users\\sobha\\appdata\\local\\programs\\python\\python310\\lib\\site-packages (from dash>=2.6.0->open3d) (1.4.1)\n",
      "Requirement already satisfied: nest-asyncio in c:\\users\\sobha\\appdata\\local\\programs\\python\\python310\\lib\\site-packages (from dash>=2.6.0->open3d) (1.5.6)\n",
      "Requirement already satisfied: setuptools in c:\\users\\sobha\\appdata\\local\\programs\\python\\python310\\lib\\site-packages (from dash>=2.6.0->open3d) (58.1.0)\n",
      "Requirement already satisfied: blinker>=1.9.0 in c:\\users\\sobha\\appdata\\local\\programs\\python\\python310\\lib\\site-packages (from flask>=3.0.0->open3d) (1.9.0)\n",
      "Requirement already satisfied: click>=8.1.3 in c:\\users\\sobha\\appdata\\local\\programs\\python\\python310\\lib\\site-packages (from flask>=3.0.0->open3d) (8.1.7)\n",
      "Requirement already satisfied: itsdangerous>=2.2.0 in c:\\users\\sobha\\appdata\\local\\programs\\python\\python310\\lib\\site-packages (from flask>=3.0.0->open3d) (2.2.0)\n",
      "Requirement already satisfied: jinja2>=3.1.2 in c:\\users\\sobha\\appdata\\local\\programs\\python\\python310\\lib\\site-packages (from flask>=3.0.0->open3d) (3.1.2)\n",
      "Requirement already satisfied: markupsafe>=2.1.1 in c:\\users\\sobha\\appdata\\local\\programs\\python\\python310\\lib\\site-packages (from flask>=3.0.0->open3d) (2.1.2)\n",
      "Requirement already satisfied: colorama in c:\\users\\sobha\\appdata\\local\\programs\\python\\python310\\lib\\site-packages (from click>=8.1.3->flask>=3.0.0->open3d) (0.4.6)\n",
      "Requirement already satisfied: ipykernel>=4.5.1 in c:\\users\\sobha\\appdata\\local\\programs\\python\\python310\\lib\\site-packages (from ipywidgets>=8.0.4->open3d) (6.22.0)\n",
      "Requirement already satisfied: ipython>=6.1.0 in c:\\users\\sobha\\appdata\\local\\programs\\python\\python310\\lib\\site-packages (from ipywidgets>=8.0.4->open3d) (8.11.0)\n",
      "Requirement already satisfied: traitlets>=4.3.1 in c:\\users\\sobha\\appdata\\local\\programs\\python\\python310\\lib\\site-packages (from ipywidgets>=8.0.4->open3d) (5.9.0)\n",
      "Requirement already satisfied: widgetsnbextension~=4.0 in c:\\users\\sobha\\appdata\\local\\programs\\python\\python310\\lib\\site-packages (from ipywidgets>=8.0.4->open3d) (4.0.5)\n",
      "Requirement already satisfied: jupyterlab-widgets~=3.0 in c:\\users\\sobha\\appdata\\local\\programs\\python\\python310\\lib\\site-packages (from ipywidgets>=8.0.4->open3d) (3.0.5)\n",
      "Requirement already satisfied: comm>=0.1.1 in c:\\users\\sobha\\appdata\\local\\programs\\python\\python310\\lib\\site-packages (from ipykernel>=4.5.1->ipywidgets>=8.0.4->open3d) (0.1.2)\n",
      "Requirement already satisfied: debugpy>=1.6.5 in c:\\users\\sobha\\appdata\\local\\programs\\python\\python310\\lib\\site-packages (from ipykernel>=4.5.1->ipywidgets>=8.0.4->open3d) (1.6.6)\n",
      "Requirement already satisfied: jupyter-client>=6.1.12 in c:\\users\\sobha\\appdata\\local\\programs\\python\\python310\\lib\\site-packages (from ipykernel>=4.5.1->ipywidgets>=8.0.4->open3d) (8.1.0)\n",
      "Requirement already satisfied: jupyter-core!=5.0.*,>=4.12 in c:\\users\\sobha\\appdata\\local\\programs\\python\\python310\\lib\\site-packages (from ipykernel>=4.5.1->ipywidgets>=8.0.4->open3d) (5.3.0)\n",
      "Requirement already satisfied: matplotlib-inline>=0.1 in c:\\users\\sobha\\appdata\\local\\programs\\python\\python310\\lib\\site-packages (from ipykernel>=4.5.1->ipywidgets>=8.0.4->open3d) (0.1.6)\n",
      "Requirement already satisfied: packaging in c:\\users\\sobha\\appdata\\local\\programs\\python\\python310\\lib\\site-packages (from ipykernel>=4.5.1->ipywidgets>=8.0.4->open3d) (23.0)\n",
      "Requirement already satisfied: psutil in c:\\users\\sobha\\appdata\\local\\programs\\python\\python310\\lib\\site-packages (from ipykernel>=4.5.1->ipywidgets>=8.0.4->open3d) (5.9.4)\n",
      "Requirement already satisfied: pyzmq>=20 in c:\\users\\sobha\\appdata\\local\\programs\\python\\python310\\lib\\site-packages (from ipykernel>=4.5.1->ipywidgets>=8.0.4->open3d) (25.0.2)\n",
      "Requirement already satisfied: tornado>=6.1 in c:\\users\\sobha\\appdata\\local\\programs\\python\\python310\\lib\\site-packages (from ipykernel>=4.5.1->ipywidgets>=8.0.4->open3d) (6.2)\n",
      "Requirement already satisfied: backcall in c:\\users\\sobha\\appdata\\local\\programs\\python\\python310\\lib\\site-packages (from ipython>=6.1.0->ipywidgets>=8.0.4->open3d) (0.2.0)\n",
      "Requirement already satisfied: decorator in c:\\users\\sobha\\appdata\\local\\programs\\python\\python310\\lib\\site-packages (from ipython>=6.1.0->ipywidgets>=8.0.4->open3d) (5.1.1)\n",
      "Requirement already satisfied: jedi>=0.16 in c:\\users\\sobha\\appdata\\local\\programs\\python\\python310\\lib\\site-packages (from ipython>=6.1.0->ipywidgets>=8.0.4->open3d) (0.18.2)\n",
      "Requirement already satisfied: pickleshare in c:\\users\\sobha\\appdata\\local\\programs\\python\\python310\\lib\\site-packages (from ipython>=6.1.0->ipywidgets>=8.0.4->open3d) (0.7.5)\n",
      "Requirement already satisfied: prompt-toolkit!=3.0.37,<3.1.0,>=3.0.30 in c:\\users\\sobha\\appdata\\local\\programs\\python\\python310\\lib\\site-packages (from ipython>=6.1.0->ipywidgets>=8.0.4->open3d) (3.0.38)\n",
      "Requirement already satisfied: pygments>=2.4.0 in c:\\users\\sobha\\appdata\\local\\programs\\python\\python310\\lib\\site-packages (from ipython>=6.1.0->ipywidgets>=8.0.4->open3d) (2.14.0)\n",
      "Requirement already satisfied: stack-data in c:\\users\\sobha\\appdata\\local\\programs\\python\\python310\\lib\\site-packages (from ipython>=6.1.0->ipywidgets>=8.0.4->open3d) (0.6.2)\n",
      "Requirement already satisfied: wcwidth in c:\\users\\sobha\\appdata\\local\\programs\\python\\python310\\lib\\site-packages (from prompt-toolkit!=3.0.37,<3.1.0,>=3.0.30->ipython>=6.1.0->ipywidgets>=8.0.4->open3d) (0.2.6)\n",
      "Requirement already satisfied: parso<0.9.0,>=0.8.0 in c:\\users\\sobha\\appdata\\local\\programs\\python\\python310\\lib\\site-packages (from jedi>=0.16->ipython>=6.1.0->ipywidgets>=8.0.4->open3d) (0.8.3)\n",
      "Requirement already satisfied: python-dateutil>=2.8.2 in c:\\users\\sobha\\appdata\\local\\programs\\python\\python310\\lib\\site-packages (from jupyter-client>=6.1.12->ipykernel>=4.5.1->ipywidgets>=8.0.4->open3d) (2.8.2)\n",
      "Requirement already satisfied: platformdirs>=2.5 in c:\\users\\sobha\\appdata\\local\\programs\\python\\python310\\lib\\site-packages (from jupyter-core!=5.0.*,>=4.12->ipykernel>=4.5.1->ipywidgets>=8.0.4->open3d) (3.1.1)\n",
      "Requirement already satisfied: pywin32>=300 in c:\\users\\sobha\\appdata\\local\\programs\\python\\python310\\lib\\site-packages (from jupyter-core!=5.0.*,>=4.12->ipykernel>=4.5.1->ipywidgets>=8.0.4->open3d) (305)\n",
      "Requirement already satisfied: fastjsonschema in c:\\users\\sobha\\appdata\\local\\programs\\python\\python310\\lib\\site-packages (from nbformat>=5.7.0->open3d) (2.16.3)\n",
      "Requirement already satisfied: jsonschema>=2.6 in c:\\users\\sobha\\appdata\\local\\programs\\python\\python310\\lib\\site-packages (from nbformat>=5.7.0->open3d) (4.17.3)\n",
      "Requirement already satisfied: attrs>=17.4.0 in c:\\users\\sobha\\appdata\\local\\programs\\python\\python310\\lib\\site-packages (from jsonschema>=2.6->nbformat>=5.7.0->open3d) (22.2.0)\n",
      "Requirement already satisfied: pyrsistent!=0.17.0,!=0.17.1,!=0.17.2,>=0.14.0 in c:\\users\\sobha\\appdata\\local\\programs\\python\\python310\\lib\\site-packages (from jsonschema>=2.6->nbformat>=5.7.0->open3d) (0.19.3)\n",
      "Requirement already satisfied: narwhals>=1.15.1 in c:\\users\\sobha\\appdata\\local\\programs\\python\\python310\\lib\\site-packages (from plotly>=5.0.0->dash>=2.6.0->open3d) (1.48.0)\n",
      "Requirement already satisfied: six>=1.5 in c:\\users\\sobha\\appdata\\local\\programs\\python\\python310\\lib\\site-packages (from python-dateutil>=2.8.2->jupyter-client>=6.1.12->ipykernel>=4.5.1->ipywidgets>=8.0.4->open3d) (1.16.0)\n",
      "Requirement already satisfied: zipp>=3.20 in c:\\users\\sobha\\appdata\\local\\programs\\python\\python310\\lib\\site-packages (from importlib-metadata->dash>=2.6.0->open3d) (3.23.0)\n",
      "Requirement already satisfied: charset-normalizer<4,>=2 in c:\\users\\sobha\\appdata\\local\\programs\\python\\python310\\lib\\site-packages (from requests->dash>=2.6.0->open3d) (3.1.0)\n",
      "Requirement already satisfied: idna<4,>=2.5 in c:\\users\\sobha\\appdata\\local\\programs\\python\\python310\\lib\\site-packages (from requests->dash>=2.6.0->open3d) (3.4)\n",
      "Requirement already satisfied: urllib3<1.27,>=1.21.1 in c:\\users\\sobha\\appdata\\local\\programs\\python\\python310\\lib\\site-packages (from requests->dash>=2.6.0->open3d) (1.26.15)\n",
      "Requirement already satisfied: certifi>=2017.4.17 in c:\\users\\sobha\\appdata\\local\\programs\\python\\python310\\lib\\site-packages (from requests->dash>=2.6.0->open3d) (2022.12.7)\n",
      "Requirement already satisfied: executing>=1.2.0 in c:\\users\\sobha\\appdata\\local\\programs\\python\\python310\\lib\\site-packages (from stack-data->ipython>=6.1.0->ipywidgets>=8.0.4->open3d) (1.2.0)\n",
      "Requirement already satisfied: asttokens>=2.1.0 in c:\\users\\sobha\\appdata\\local\\programs\\python\\python310\\lib\\site-packages (from stack-data->ipython>=6.1.0->ipywidgets>=8.0.4->open3d) (2.2.1)\n",
      "Requirement already satisfied: pure-eval in c:\\users\\sobha\\appdata\\local\\programs\\python\\python310\\lib\\site-packages (from stack-data->ipython>=6.1.0->ipywidgets>=8.0.4->open3d) (0.2.2)\n"
     ]
    }
   ],
   "source": [
    "pip install open3d"
   ]
  },
  {
   "cell_type": "markdown",
   "metadata": {
    "id": "5-xJ6CvHrDdA"
   },
   "source": [
    "# 1. Point Cloud Registration Using ICP"
   ]
  },
  {
   "cell_type": "markdown",
   "metadata": {
    "id": "9q3NXfcunGGf"
   },
   "source": [
    "## Import Dataset"
   ]
  },
  {
   "cell_type": "code",
   "execution_count": 2,
   "metadata": {
    "colab": {
     "base_uri": "https://localhost:8080/"
    },
    "executionInfo": {
     "elapsed": 9748,
     "status": "ok",
     "timestamp": 1752951032126,
     "user": {
      "displayName": "Sobhan",
      "userId": "06848168817082522283"
     },
     "user_tz": -210
    },
    "id": "uW00QaIVXsjH",
    "outputId": "52f7d934-4026-477e-85bb-dad578b0ddb4"
   },
   "outputs": [
    {
     "name": "stdout",
     "output_type": "stream",
     "text": [
      "Extracted to kitti_sample\n"
     ]
    }
   ],
   "source": [
    "import zipfile\n",
    "import os\n",
    "\n",
    "# Path to the zip file\n",
    "zip_path = \"kitti_sample.zip\"\n",
    "# Destination path for extraction\n",
    "extract_path = \"kitti_sample\"\n",
    "\n",
    "# Check if the zip file exists\n",
    "if os.path.exists(zip_path):\n",
    "    with zipfile.ZipFile(zip_path, 'r') as zip_ref:\n",
    "        zip_ref.extractall(extract_path)\n",
    "    print(f\"Extracted to {extract_path}\")\n",
    "else:\n",
    "    print(f\"Zip file not found at: {zip_path}\")\n"
   ]
  },
  {
   "cell_type": "markdown",
   "metadata": {
    "id": "4O5cSyEVnOMn"
   },
   "source": [
    "## Show Lidar Points"
   ]
  },
  {
   "cell_type": "code",
   "execution_count": 3,
   "metadata": {
    "colab": {
     "base_uri": "https://localhost:8080/",
     "height": 615
    },
    "executionInfo": {
     "elapsed": 9690,
     "status": "ok",
     "timestamp": 1752951041796,
     "user": {
      "displayName": "Sobhan",
      "userId": "06848168817082522283"
     },
     "user_tz": -210
    },
    "id": "bXbXDaMalnL-",
    "outputId": "efaba0fe-071a-4f16-f891-43ca6afc3c32"
   },
   "outputs": [
    {
     "name": "stdout",
     "output_type": "stream",
     "text": [
      "Jupyter environment detected. Enabling Open3D WebVisualizer.\n",
      "[Open3D INFO] WebRTC GUI backend enabled.\n",
      "[Open3D INFO] WebRTCWindowSystem: HTTP handshake server disabled.\n",
      "Total number of points in the file: 124605\n"
     ]
    }
   ],
   "source": [
    "import numpy as np\n",
    "import open3d as o3d\n",
    "\n",
    "# Path to the point cloud binary file\n",
    "bin_path = \"kitti_sample/kitti_sample/00/000001.bin\"\n",
    "\n",
    "# Read data from the binary file\n",
    "point_cloud = np.fromfile(bin_path, dtype=np.float32).reshape(-1, 4)\n",
    "points = point_cloud[:, :3]  # Only XYZ coordinates\n",
    "\n",
    "# Print the total number of points\n",
    "print(f\"Total number of points in the file: {points.shape[0]}\")\n",
    "\n",
    "# Create a PointCloud object using Open3D\n",
    "pcd = o3d.geometry.PointCloud()\n",
    "pcd.points = o3d.utility.Vector3dVector(points)\n",
    "\n",
    "# Visualize the point cloud using Open3D\n",
    "o3d.visualization.draw_geometries([pcd], window_name=\"LIDAR Frame 000001\")\n"
   ]
  },
  {
   "cell_type": "markdown",
   "metadata": {},
   "source": [
    "## Show Lidar Points Intensity"
   ]
  },
  {
   "cell_type": "code",
   "execution_count": 4,
   "metadata": {},
   "outputs": [
    {
     "name": "stdout",
     "output_type": "stream",
     "text": [
      "Total number of points in the file: 124605\n"
     ]
    }
   ],
   "source": [
    "import matplotlib.pyplot as plt\n",
    "\n",
    "# Read data from the binary file\n",
    "point_cloud = np.fromfile(bin_path, dtype=np.float32).reshape(-1, 4)\n",
    "points = point_cloud[:, :3]        # XYZ coordinates\n",
    "intensities = point_cloud[:, 3]    # Intensity values\n",
    "\n",
    "# Print the total number of points\n",
    "print(f\"Total number of points in the file: {points.shape[0]}\")\n",
    "\n",
    "# Normalize intensity values between 0 and 1\n",
    "intensity_normalized = (intensities - intensities.min()) / (intensities.ptp() + 1e-8)\n",
    "\n",
    "# Apply a colormap (e.g., viridis) to the normalized intensities\n",
    "colormap = plt.get_cmap(\"plasma\")\n",
    "colors = colormap(intensity_normalized)[:, :3]  # Use only RGB (ignore alpha)\n",
    "\n",
    "# Create a PointCloud object using Open3D\n",
    "pcd = o3d.geometry.PointCloud()\n",
    "pcd.points = o3d.utility.Vector3dVector(points)\n",
    "pcd.colors = o3d.utility.Vector3dVector(colors)\n",
    "\n",
    "# Visualize the point cloud using Open3D\n",
    "o3d.visualization.draw_geometries([pcd], window_name=\"LIDAR Frame 000001 (Colored by Intensity)\")"
   ]
  },
  {
   "cell_type": "markdown",
   "metadata": {
    "id": "WuVga54MUUnN"
   },
   "source": [
    "## (a) Select Two Point Clouds:"
   ]
  },
  {
   "cell_type": "code",
   "execution_count": 5,
   "metadata": {
    "executionInfo": {
     "elapsed": 4588,
     "status": "ok",
     "timestamp": 1752951052112,
     "user": {
      "displayName": "Sobhan",
      "userId": "06848168817082522283"
     },
     "user_tz": -210
    },
    "id": "4ocx41fDoLdV"
   },
   "outputs": [],
   "source": [
    "def load_bin_to_pcd(bin_path):\n",
    "    \"\"\"Reads .bin file and converts to Open3D PointCloud\"\"\"\n",
    "    points = np.fromfile(bin_path, dtype=np.float32).reshape(-1, 4)[:, :3]\n",
    "    pcd = o3d.geometry.PointCloud()\n",
    "    pcd.points = o3d.utility.Vector3dVector(points)\n",
    "    return pcd\n",
    "\n",
    "# File paths (relative to project directory)\n",
    "base_path = \"kitti_sample/kitti_sample/00/\"\n",
    "source_pcd = load_bin_to_pcd(base_path + \"000001.bin\")\n",
    "target_pcd = load_bin_to_pcd(base_path + \"000005.bin\")\n",
    "\n",
    "# Downsampling for speed and noise reduction\n",
    "voxel_size = 0.5  # Try 0.2 if needed\n",
    "source_down = source_pcd.voxel_down_sample(voxel_size)\n",
    "target_down = target_pcd.voxel_down_sample(voxel_size)\n",
    "\n",
    "# Estimate normals (needed for point-to-plane ICP)\n",
    "source_down.estimate_normals(search_param=o3d.geometry.KDTreeSearchParamHybrid(radius=1.0, max_nn=30))\n",
    "target_down.estimate_normals(search_param=o3d.geometry.KDTreeSearchParamHybrid(radius=1.0, max_nn=30))\n"
   ]
  },
  {
   "cell_type": "markdown",
   "metadata": {
    "id": "eEGAPsQSUO2P"
   },
   "source": [
    "## (b) Visualize Unregistered Point Clouds:"
   ]
  },
  {
   "cell_type": "code",
   "execution_count": 6,
   "metadata": {
    "colab": {
     "base_uri": "https://localhost:8080/",
     "height": 707
    },
    "executionInfo": {
     "elapsed": 1722,
     "status": "ok",
     "timestamp": 1752951053822,
     "user": {
      "displayName": "Sobhan",
      "userId": "06848168817082522283"
     },
     "user_tz": -210
    },
    "id": "olrY7gMvUOdw",
    "outputId": "09d6dc38-011c-4ba0-e9ff-19a8c4c2b94b"
   },
   "outputs": [],
   "source": [
    "def plot_before_icp_o3d(source, target, title=\"Before ICP - Initial Alignment\"):\n",
    "    # Create copies of the point clouds to avoid modifying the original data\n",
    "    source_temp = o3d.geometry.PointCloud(source)\n",
    "    target_temp = o3d.geometry.PointCloud(target)\n",
    "\n",
    "    # Assign colors to each point cloud for visual distinction\n",
    "    source_temp.paint_uniform_color([1, 0, 0])  # Red\n",
    "    target_temp.paint_uniform_color([0, 0, 1])  # Blue\n",
    "\n",
    "    # Visualize with a title (note: the title is not displayed inside the window)\n",
    "    o3d.visualization.draw_geometries([source_temp, target_temp],\n",
    "                                      window_name=title)\n",
    "\n",
    "# Run the visualization function\n",
    "plot_before_icp_o3d(source_down, target_down)\n"
   ]
  },
  {
   "cell_type": "markdown",
   "metadata": {
    "id": "ULUf4VTXU4n0"
   },
   "source": [
    "## (c) Apply ICP Algorithm:"
   ]
  },
  {
   "cell_type": "code",
   "execution_count": 7,
   "metadata": {
    "colab": {
     "base_uri": "https://localhost:8080/"
    },
    "executionInfo": {
     "elapsed": 499,
     "status": "ok",
     "timestamp": 1752951054300,
     "user": {
      "displayName": "Sobhan",
      "userId": "06848168817082522283"
     },
     "user_tz": -210
    },
    "id": "B8Yp9rNlVBMO",
    "outputId": "dfad9b30-f3b5-4be5-fdf1-e68ac4e62f5f"
   },
   "outputs": [
    {
     "name": "stdout",
     "output_type": "stream",
     "text": [
      "Transformation matrix (ICP):\n",
      " [[ 0.99990311  0.01380751  0.00176822 -1.03774161]\n",
      " [-0.01380418  0.99990295 -0.00188165  0.00165326]\n",
      " [-0.00179403  0.00185706  0.99999667  0.00996909]\n",
      " [ 0.          0.          0.          1.        ]]\n",
      "Fitness: 0.7087866108786611\n",
      "Inlier RMSE: 0.5061625714170965\n"
     ]
    }
   ],
   "source": [
    "# ICP Point-to-Point\n",
    "icp_result = o3d.pipelines.registration.registration_icp(\n",
    "    source_down,  # Source point cloud\n",
    "    target_down,  # Target point cloud\n",
    "    max_correspondence_distance=1.0,  # Maximum correspondence threshold\n",
    "    init=np.eye(4),  # Initial transformation (identity)\n",
    "    estimation_method=o3d.pipelines.registration.TransformationEstimationPointToPoint()\n",
    ")\n",
    "\n",
    "# Results\n",
    "print(\"Transformation matrix (ICP):\\n\", icp_result.transformation)\n",
    "print(\"Fitness:\", icp_result.fitness)\n",
    "print(\"Inlier RMSE:\", icp_result.inlier_rmse)"
   ]
  },
  {
   "cell_type": "code",
   "execution_count": 8,
   "metadata": {},
   "outputs": [
    {
     "name": "stdout",
     "output_type": "stream",
     "text": [
      "Translation: tx=-1.038 m, ty=0.002 m, tz=0.010 m\n",
      "Rotation (degrees): roll=0.11°, pitch=0.10°, yaw=-0.79°\n"
     ]
    }
   ],
   "source": [
    "# Extract translation\n",
    "translation = icp_result.transformation[:3, 3]\n",
    "tx, ty, tz = translation\n",
    "\n",
    "# Extract rotation matrix\n",
    "R = icp_result.transformation[:3, :3]\n",
    "\n",
    "# Convert rotation matrix to Euler angles (roll, pitch, yaw)\n",
    "# Assuming intrinsic Tait-Bryan angles in ZYX order (yaw-pitch-roll)\n",
    "import math\n",
    "\n",
    "sy = math.sqrt(R[0,0] ** 2 + R[1,0] ** 2)\n",
    "singular = sy < 1e-6\n",
    "\n",
    "if not singular:\n",
    "    roll = math.atan2(R[2,1], R[2,2])\n",
    "    pitch = math.atan2(-R[2,0], sy)\n",
    "    yaw = math.atan2(R[1,0], R[0,0])\n",
    "else:\n",
    "    roll = math.atan2(-R[1,2], R[1,1])\n",
    "    pitch = math.atan2(-R[2,0], sy)\n",
    "    yaw = 0\n",
    "\n",
    "# Convert to degrees\n",
    "roll_deg = math.degrees(roll)\n",
    "pitch_deg = math.degrees(pitch)\n",
    "yaw_deg = math.degrees(yaw)\n",
    "\n",
    "# Print results\n",
    "print(f\"Translation: tx={tx:.3f} m, ty={ty:.3f} m, tz={tz:.3f} m\")\n",
    "print(f\"Rotation (degrees): roll={roll_deg:.2f}°, pitch={pitch_deg:.2f}°, yaw={yaw_deg:.2f}°\")\n"
   ]
  },
  {
   "cell_type": "markdown",
   "metadata": {
    "id": "8FBgrIt7VNa-"
   },
   "source": [
    "## (d) Visualize Aligned Point Clouds:"
   ]
  },
  {
   "cell_type": "code",
   "execution_count": 9,
   "metadata": {
    "colab": {
     "base_uri": "https://localhost:8080/",
     "height": 707
    },
    "executionInfo": {
     "elapsed": 1042,
     "status": "ok",
     "timestamp": 1752951055334,
     "user": {
      "displayName": "Sobhan",
      "userId": "06848168817082522283"
     },
     "user_tz": -210
    },
    "id": "IWewWxZ4VPTC",
    "outputId": "e62b6c06-0dbf-4437-bb36-80dff7b69616"
   },
   "outputs": [],
   "source": [
    "def plot_after_icp_o3d(source, target, transformation, title=\"After ICP - Aligned Point Clouds\"):\n",
    "    # Apply transformation to a copy of the source point cloud\n",
    "    source_transformed = o3d.geometry.PointCloud(source)\n",
    "    source_transformed.transform(transformation)\n",
    "\n",
    "    # Assign colors to each point cloud\n",
    "    source_transformed.paint_uniform_color([1, 0, 0])  # Red (Source)\n",
    "    target.paint_uniform_color([0, 0, 1])              # Blue (Target)\n",
    "\n",
    "    # Visualize in Open3D\n",
    "    o3d.visualization.draw_geometries([source_transformed, target],\n",
    "                                      window_name=title)\n",
    "\n",
    "# Run the visualization function\n",
    "plot_after_icp_o3d(source_down, target_down, icp_result.transformation)\n"
   ]
  },
  {
   "cell_type": "code",
   "execution_count": 10,
   "metadata": {
    "colab": {
     "base_uri": "https://localhost:8080/",
     "height": 608
    },
    "executionInfo": {
     "elapsed": 2070,
     "status": "ok",
     "timestamp": 1752951057386,
     "user": {
      "displayName": "Sobhan",
      "userId": "06848168817082522283"
     },
     "user_tz": -210
    },
    "id": "6Kl_VITQVvxJ",
    "outputId": "e0eb0763-a540-4545-e1cd-6545b51421f9"
   },
   "outputs": [],
   "source": [
    "import copy\n",
    "\n",
    "def plot_before_after_icp_one_window(source, target, transformation):\n",
    "    # Make deep copies to keep original point clouds unchanged\n",
    "    source_before = copy.deepcopy(source)\n",
    "    source_after = copy.deepcopy(source)\n",
    "    target_copy = copy.deepcopy(target)\n",
    "\n",
    "    # Apply the transformation to the post-ICP version\n",
    "    source_after.transform(transformation)\n",
    "\n",
    "    # Color the point clouds\n",
    "    source_before.paint_uniform_color([1, 0, 0])   # Red - Before ICP\n",
    "    source_after.paint_uniform_color([0, 1, 0])    # Green - After ICP\n",
    "    target_copy.paint_uniform_color([0, 0, 1])     # Blue - Target\n",
    "\n",
    "    # Visualize all in one window\n",
    "    o3d.visualization.draw_geometries([source_before, source_after, target_copy],\n",
    "                                      window_name=\"Before & After ICP - One Window\")\n",
    "\n",
    "# Run the function\n",
    "plot_before_after_icp_one_window(source_down, target_down, icp_result.transformation)\n"
   ]
  },
  {
   "cell_type": "markdown",
   "metadata": {},
   "source": [
    "## Animation"
   ]
  },
  {
   "cell_type": "code",
   "execution_count": 11,
   "metadata": {},
   "outputs": [],
   "source": [
    "import time\n",
    "\n",
    "def animate_icp_alignment(source, target, transformation, steps=100, delay=0.02):\n",
    "    # Copy and color clouds\n",
    "    source_copy = copy.deepcopy(source)\n",
    "    target_copy = copy.deepcopy(target)\n",
    "\n",
    "    source_copy.paint_uniform_color([1, 0, 0])   # Red - Source\n",
    "    target_copy.paint_uniform_color([0, 0, 1])   # Blue - Target\n",
    "\n",
    "    # Setup visualizer\n",
    "    vis = o3d.visualization.Visualizer()\n",
    "    vis.create_window(window_name=\"ICP Animation\", width=960, height=720)\n",
    "    vis.add_geometry(source_copy)\n",
    "    vis.add_geometry(target_copy)\n",
    "\n",
    "    # Decompose the transformation\n",
    "    delta = np.linalg.inv(np.eye(4)) @ transformation  # from identity to final\n",
    "    t_final = transformation[:3, 3]\n",
    "    R_final = transformation[:3, :3]\n",
    "\n",
    "    for i in range(steps + 1):\n",
    "        alpha = i / steps\n",
    "\n",
    "        # Interpolate translation linearly\n",
    "        t_interp = alpha * t_final\n",
    "\n",
    "        # Interpolate rotation linearly (not physically accurate but works visually)\n",
    "        R_interp = np.eye(3) + alpha * (R_final - np.eye(3))\n",
    "\n",
    "        # Build interpolated transformation matrix\n",
    "        T_interp = np.eye(4)\n",
    "        T_interp[:3, :3] = R_interp\n",
    "        T_interp[:3, 3] = t_interp\n",
    "\n",
    "        # Transform and update source\n",
    "        source_step = copy.deepcopy(source)\n",
    "        source_step.transform(T_interp)\n",
    "        source_copy.points = source_step.points  # update points in-place\n",
    "\n",
    "        vis.update_geometry(source_copy)\n",
    "        vis.poll_events()\n",
    "        vis.update_renderer()\n",
    "        time.sleep(delay)\n",
    "\n",
    "    vis.run()\n",
    "    vis.destroy_window()\n"
   ]
  },
  {
   "cell_type": "code",
   "execution_count": 12,
   "metadata": {},
   "outputs": [],
   "source": [
    "animate_icp_alignment(source_down, target_down, icp_result.transformation)\n"
   ]
  },
  {
   "cell_type": "markdown",
   "metadata": {
    "id": "wsI9tXZCrQwc"
   },
   "source": [
    "# 2. Incremental Registration of Multiple Point Clouds Using ICP"
   ]
  },
  {
   "cell_type": "markdown",
   "metadata": {
    "id": "XPb7e0wMraPK"
   },
   "source": [
    "## (a) Use the Result from Previous Part:\n",
    "## (b) Visualize the Final Map:"
   ]
  },
  {
   "cell_type": "code",
   "execution_count": 1,
   "metadata": {
    "colab": {
     "base_uri": "https://localhost:8080/"
    },
    "executionInfo": {
     "elapsed": 19745,
     "status": "ok",
     "timestamp": 1752951077106,
     "user": {
      "displayName": "Sobhan",
      "userId": "06848168817082522283"
     },
     "user_tz": -210
    },
    "id": "J0p2FOvxrUUK",
    "outputId": "5d75848c-9fa2-4f43-a812-0c4d21d0566d"
   },
   "outputs": [
    {
     "name": "stdout",
     "output_type": "stream",
     "text": [
      "Jupyter environment detected. Enabling Open3D WebVisualizer.\n",
      "[Open3D INFO] WebRTC GUI backend enabled.\n",
      "[Open3D INFO] WebRTCWindowSystem: HTTP handshake server disabled.\n",
      "Registering frame 1 to frame 0...\n",
      "Registering frame 2 to frame 1...\n",
      "Registering frame 3 to frame 2...\n",
      "Registering frame 4 to frame 3...\n",
      "Registering frame 5 to frame 4...\n",
      "Registering frame 6 to frame 5...\n",
      "Registering frame 7 to frame 6...\n",
      "Registering frame 8 to frame 7...\n",
      "Registering frame 9 to frame 8...\n",
      "Registering frame 10 to frame 9...\n",
      "Registering frame 11 to frame 10...\n",
      "Registering frame 12 to frame 11...\n",
      "Registering frame 13 to frame 12...\n",
      "Registering frame 14 to frame 13...\n",
      "Registering frame 15 to frame 14...\n",
      "Registering frame 16 to frame 15...\n",
      "Registering frame 17 to frame 16...\n",
      "Registering frame 18 to frame 17...\n",
      "Registering frame 19 to frame 18...\n",
      "Registering frame 20 to frame 19...\n",
      "Registering frame 21 to frame 20...\n",
      "Registering frame 22 to frame 21...\n",
      "Registering frame 23 to frame 22...\n",
      "Registering frame 24 to frame 23...\n",
      "Registering frame 25 to frame 24...\n",
      "Registering frame 26 to frame 25...\n",
      "Registering frame 27 to frame 26...\n",
      "Registering frame 28 to frame 27...\n",
      "Registering frame 29 to frame 28...\n",
      "Registering frame 30 to frame 29...\n",
      "Registering frame 31 to frame 30...\n",
      "Registering frame 32 to frame 31...\n",
      "Registering frame 33 to frame 32...\n",
      "Registering frame 34 to frame 33...\n",
      "Registering frame 35 to frame 34...\n",
      "Registering frame 36 to frame 35...\n",
      "Registering frame 37 to frame 36...\n",
      "Registering frame 38 to frame 37...\n",
      "Registering frame 39 to frame 38...\n",
      "Registering frame 40 to frame 39...\n",
      "Registering frame 41 to frame 40...\n",
      "Registering frame 42 to frame 41...\n",
      "Registering frame 43 to frame 42...\n",
      "Registering frame 44 to frame 43...\n",
      "Registering frame 45 to frame 44...\n",
      "Registering frame 46 to frame 45...\n",
      "Registering frame 47 to frame 46...\n",
      "Registering frame 48 to frame 47...\n",
      "Registering frame 49 to frame 48...\n",
      "Registering frame 50 to frame 49...\n",
      "Registering frame 51 to frame 50...\n",
      "Registering frame 52 to frame 51...\n",
      "Registering frame 53 to frame 52...\n",
      "Registering frame 54 to frame 53...\n",
      "Registering frame 55 to frame 54...\n",
      "Registering frame 56 to frame 55...\n",
      "Registering frame 57 to frame 56...\n",
      "Registering frame 58 to frame 57...\n",
      "Registering frame 59 to frame 58...\n",
      "Registering frame 60 to frame 59...\n",
      "Registering frame 61 to frame 60...\n",
      "Registering frame 62 to frame 61...\n",
      "Registering frame 63 to frame 62...\n",
      "Registering frame 64 to frame 63...\n",
      "Registering frame 65 to frame 64...\n",
      "Registering frame 66 to frame 65...\n",
      "Registering frame 67 to frame 66...\n",
      "Registering frame 68 to frame 67...\n",
      "Registering frame 69 to frame 68...\n",
      "Registering frame 70 to frame 69...\n",
      "Registering frame 71 to frame 70...\n",
      "Registering frame 72 to frame 71...\n",
      "Registering frame 73 to frame 72...\n",
      "Registering frame 74 to frame 73...\n",
      "Registering frame 75 to frame 74...\n",
      "Registering frame 76 to frame 75...\n",
      "Registering frame 77 to frame 76...\n",
      "Registering frame 78 to frame 77...\n",
      "Registering frame 79 to frame 78...\n",
      "Registering frame 80 to frame 79...\n",
      "Registering frame 81 to frame 80...\n",
      "Registering frame 82 to frame 81...\n",
      "Registering frame 83 to frame 82...\n",
      "Registering frame 84 to frame 83...\n",
      "Registering frame 85 to frame 84...\n",
      "Registering frame 86 to frame 85...\n",
      "Registering frame 87 to frame 86...\n",
      "Registering frame 88 to frame 87...\n",
      "Registering frame 89 to frame 88...\n",
      "Registering frame 90 to frame 89...\n",
      "Registering frame 91 to frame 90...\n",
      "Registering frame 92 to frame 91...\n",
      "Registering frame 93 to frame 92...\n",
      "Registering frame 94 to frame 93...\n",
      "Registering frame 95 to frame 94...\n",
      "Registering frame 96 to frame 95...\n",
      "Registering frame 97 to frame 96...\n",
      "Registering frame 98 to frame 97...\n",
      "Registering frame 99 to frame 98...\n",
      "Registering frame 100 to frame 99...\n",
      "Registering frame 101 to frame 100...\n",
      "Registering frame 102 to frame 101...\n",
      "Registering frame 103 to frame 102...\n",
      "Registering frame 104 to frame 103...\n",
      "Registering frame 105 to frame 104...\n",
      "Registering frame 106 to frame 105...\n",
      "Registering frame 107 to frame 106...\n",
      "Registering frame 108 to frame 107...\n",
      "Registering frame 109 to frame 108...\n",
      "Registering frame 110 to frame 109...\n",
      "Registering frame 111 to frame 110...\n",
      "Registering frame 112 to frame 111...\n",
      "Registering frame 113 to frame 112...\n",
      "Registering frame 114 to frame 113...\n",
      "Registering frame 115 to frame 114...\n",
      "Registering frame 116 to frame 115...\n",
      "Registering frame 117 to frame 116...\n",
      "Registering frame 118 to frame 117...\n",
      "Registering frame 119 to frame 118...\n",
      "Registering frame 120 to frame 119...\n",
      "Registering frame 121 to frame 120...\n",
      "Registering frame 122 to frame 121...\n",
      "Registering frame 123 to frame 122...\n",
      "Registering frame 124 to frame 123...\n",
      "Registering frame 125 to frame 124...\n",
      "Registering frame 126 to frame 125...\n",
      "Registering frame 127 to frame 126...\n",
      "Registering frame 128 to frame 127...\n",
      "Registering frame 129 to frame 128...\n",
      "Registering frame 130 to frame 129...\n",
      "Registering frame 131 to frame 130...\n",
      "Registering frame 132 to frame 131...\n",
      "Registering frame 133 to frame 132...\n",
      "Registering frame 134 to frame 133...\n",
      "Registering frame 135 to frame 134...\n",
      "Registering frame 136 to frame 135...\n",
      "Registering frame 137 to frame 136...\n",
      "Registering frame 138 to frame 137...\n",
      "Registering frame 139 to frame 138...\n",
      "Registering frame 140 to frame 139...\n",
      "Registering frame 141 to frame 140...\n"
     ]
    }
   ],
   "source": [
    "import os\n",
    "import numpy as np\n",
    "import open3d as o3d\n",
    "import copy\n",
    "import random\n",
    "\n",
    "# Paths\n",
    "base_path = \"kitti_sample/00/\"\n",
    "\n",
    "# Parameters\n",
    "voxel_size = 0.2\n",
    "icp_threshold = 1.5\n",
    "max_iter = 2000\n",
    "\n",
    "def load_bin_to_pcd(bin_path):\n",
    "    points = np.fromfile(bin_path, dtype=np.float32).reshape(-1, 4)[:, :3]\n",
    "    pcd = o3d.geometry.PointCloud(o3d.utility.Vector3dVector(points))\n",
    "    return pcd\n",
    "\n",
    "def do_icp(source, target, threshold, init, max_iter):\n",
    "    source.estimate_normals(o3d.geometry.KDTreeSearchParamHybrid(radius=0.5, max_nn=30))\n",
    "    target.estimate_normals(o3d.geometry.KDTreeSearchParamHybrid(radius=0.5, max_nn=30))\n",
    "    return o3d.pipelines.registration.registration_icp(\n",
    "        source, target, threshold, init,\n",
    "        o3d.pipelines.registration.TransformationEstimationPointToPlane(),\n",
    "        o3d.pipelines.registration.ICPConvergenceCriteria(max_iteration=max_iter)\n",
    "    )\n",
    "\n",
    "# Load all .bin files\n",
    "bin_files = sorted([f for f in os.listdir(base_path) if f.endswith(\".bin\")])\n",
    "pc_list = [load_bin_to_pcd(os.path.join(base_path, f)) for f in bin_files]\n",
    "\n",
    "# Build unified map\n",
    "unified_map = copy.deepcopy(pc_list[0])\n",
    "cumulative_transform = np.eye(4)\n",
    "\n",
    "for i in range(1, len(pc_list)):\n",
    "    source = pc_list[i - 1].voxel_down_sample(voxel_size)\n",
    "    target = pc_list[i].voxel_down_sample(voxel_size)\n",
    "\n",
    "    print(f\"Registering frame {i} to frame {i-1}...\")\n",
    "    reg = do_icp(target, source, icp_threshold, np.eye(4), max_iter)\n",
    "    cumulative_transform = cumulative_transform @ reg.transformation\n",
    "\n",
    "    transformed = copy.deepcopy(pc_list[i])\n",
    "    transformed.transform(cumulative_transform)\n",
    "    transformed.paint_uniform_color([random.random(), random.random(), random.random()])\n",
    "    unified_map += transformed\n",
    "\n",
    "# Downsample and visualize\n",
    "final_map = unified_map.voxel_down_sample(voxel_size * 2)\n",
    "o3d.visualization.draw_geometries([final_map], window_name=\"Unified Map\")\n"
   ]
  },
  {
   "cell_type": "markdown",
   "metadata": {
    "id": "2tBfKS3N6itf"
   },
   "source": [
    "## Map and Trajectory"
   ]
  },
  {
   "cell_type": "code",
   "execution_count": 15,
   "metadata": {},
   "outputs": [],
   "source": [
    "import os\n",
    "import numpy as np\n",
    "import open3d as o3d\n",
    "import copy\n",
    "import random\n",
    "\n",
    "# Paths\n",
    "base_path = \"kitti_sample/00/\"\n",
    "gt_pose_path = \"kitti_sample/gt_pose_00.txt\"\n",
    "\n",
    "# Parameters\n",
    "voxel_size = 0.2\n",
    "icp_threshold = 1.5\n",
    "max_iter = 2000\n",
    "\n",
    "# --- Helper functions ---\n",
    "\n",
    "def load_bin_to_pcd(bin_path):\n",
    "    pts = np.fromfile(bin_path, dtype=np.float32).reshape(-1, 4)[:, :3]\n",
    "    return o3d.geometry.PointCloud(o3d.utility.Vector3dVector(pts))\n",
    "\n",
    "def do_icp(source, target, threshold, init, max_iter):\n",
    "    source.estimate_normals(o3d.geometry.KDTreeSearchParamHybrid(radius=0.5, max_nn=30))\n",
    "    target.estimate_normals(o3d.geometry.KDTreeSearchParamHybrid(radius=0.5, max_nn=30))\n",
    "    return o3d.pipelines.registration.registration_icp(\n",
    "        source, target, threshold, init,\n",
    "        o3d.pipelines.registration.TransformationEstimationPointToPlane(),\n",
    "        o3d.pipelines.registration.ICPConvergenceCriteria(max_iteration=max_iter)\n",
    "    )\n",
    "\n",
    "def transform_gt_pose(pose):\n",
    "    \n",
    "    R_rect = np.array([[0, 0, 1],\n",
    "                       [-1, 0, 0],\n",
    "                       [0, -1, 0]])\n",
    "    T = np.eye(4)\n",
    "    T[:3, :3] = R_rect @ pose[:3, :3]\n",
    "    T[:3, 3] = R_rect @ pose[:3, 3]\n",
    "    return T\n",
    "\n",
    "# --- Load point clouds ---\n",
    "bin_files = sorted([f for f in os.listdir(base_path) if f.endswith(\".bin\")])\n",
    "pc_list = [load_bin_to_pcd(os.path.join(base_path, f)) for f in bin_files]\n",
    "\n",
    "# --- Load ground truth poses ---\n",
    "gt_poses = []\n",
    "with open(gt_pose_path, 'r') as f:\n",
    "    for line in f:\n",
    "        pose = np.fromstring(line, sep=' ').reshape(3, 4)\n",
    "        mat = np.eye(4)\n",
    "        mat[:3, :4] = pose\n",
    "        mat = transform_gt_pose(mat)\n",
    "        gt_poses.append(mat)\n",
    "\n",
    "# --- Mapping ---\n",
    "unified_map = copy.deepcopy(pc_list[0])\n",
    "unified_map.paint_uniform_color([0.6, 0.6, 0.6])\n",
    "cumulative_transform = np.eye(4)\n",
    "trajectory_points = [gt_poses[0][:3, 3]]\n",
    "\n",
    "for i in range(1, len(pc_list)):\n",
    "    source = pc_list[i - 1].voxel_down_sample(voxel_size)\n",
    "    target = pc_list[i].voxel_down_sample(voxel_size)\n",
    "    \n",
    "    reg = do_icp(target, source, icp_threshold, np.eye(4), max_iter)\n",
    "    cumulative_transform = cumulative_transform @ reg.transformation\n",
    "\n",
    "    transformed = copy.deepcopy(pc_list[i])\n",
    "    transformed.transform(cumulative_transform)\n",
    "    transformed.paint_uniform_color([random.random(), random.random(), random.random()])\n",
    "    unified_map += transformed\n",
    "\n",
    "    if i < len(gt_poses):\n",
    "        trajectory_points.append(gt_poses[i][:3, 3])\n",
    "\n",
    "# --- Final downsample ---\n",
    "final_map = unified_map.voxel_down_sample(voxel_size * 2)\n",
    "\n",
    "# --- Visualize map + GT trajectory ---\n",
    "if len(trajectory_points) >= 2:\n",
    "    lines = [[i, i + 1] for i in range(len(trajectory_points) - 1)]\n",
    "    gt_line = o3d.geometry.LineSet()\n",
    "    gt_line.points = o3d.utility.Vector3dVector(trajectory_points)\n",
    "    gt_line.lines = o3d.utility.Vector2iVector(lines)\n",
    "    gt_line.colors = o3d.utility.Vector3dVector([[0, 1, 0]] * len(lines))\n",
    "    o3d.visualization.draw_geometries([final_map, gt_line],\n",
    "                                      window_name=\"Map + Ground Truth Trajectory\",\n",
    "                                      width=1200, height=900)\n",
    "else:\n",
    "    o3d.visualization.draw_geometries([final_map], window_name=\"Map Only\")\n"
   ]
  },
  {
   "cell_type": "code",
   "execution_count": null,
   "metadata": {},
   "outputs": [],
   "source": []
  }
 ],
 "metadata": {
  "colab": {
   "authorship_tag": "ABX9TyN6jHYMsH+6K8d5noMMujAM",
   "provenance": []
  },
  "kernelspec": {
   "display_name": "Python 3 (ipykernel)",
   "language": "python",
   "name": "python3"
  },
  "language_info": {
   "codemirror_mode": {
    "name": "ipython",
    "version": 3
   },
   "file_extension": ".py",
   "mimetype": "text/x-python",
   "name": "python",
   "nbconvert_exporter": "python",
   "pygments_lexer": "ipython3",
   "version": "3.10.5"
  }
 },
 "nbformat": 4,
 "nbformat_minor": 4
}
